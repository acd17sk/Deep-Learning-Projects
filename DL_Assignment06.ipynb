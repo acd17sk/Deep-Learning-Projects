{
  "cells": [
    {
      "cell_type": "markdown",
      "metadata": {
        "id": "eH27MSc7aQLq"
      },
      "source": [
        "# Assignment 6: Convolutional Networks\n",
        "\n",
        "Before we start, we should assure that we have activated CUDA -- otherwise training might take very long.\n",
        "In Google Colaboratory:\n",
        "\n",
        "1. Check the options Runtime -> Change Runtime Type on top of the page.\n",
        "2. In the popup window, select hardware accelerator GPU.\n",
        "\n",
        "Afterward, the following command should run successfully:"
      ]
    },
    {
      "cell_type": "code",
      "execution_count": 42,
      "metadata": {
        "colab": {
          "base_uri": "https://localhost:8080/"
        },
        "id": "jPstyY7AaQLv",
        "outputId": "709a4871-1598-44e3-c2dc-bb345533dbf7"
      },
      "outputs": [
        {
          "output_type": "stream",
          "name": "stdout",
          "text": [
            "Successfully enabled CUDA processing\n"
          ]
        }
      ],
      "source": [
        "import torch\n",
        "if torch.cuda.is_available():\n",
        "  print(\"Successfully enabled CUDA processing\")\n",
        "else:\n",
        "  print(\"CUDA processing not available. Things will be slow :-(\")"
      ]
    },
    {
      "cell_type": "markdown",
      "metadata": {
        "id": "W08ImtCeaQLw"
      },
      "source": [
        "## Dataset\n",
        "\n",
        "In PyTorch, a dataset stores a list of input and target tensors $(X^n, T^n)$.\n",
        "In case of **MNIST** dataset, the inputs are $X^n \\in \\mathbb R^{28\\times28}$ and $T^n \\in \\{0,\\ldots,9\\}$.\n",
        "More precisely, the data in the dataset is provided in form of `PIL.Image.Image`, which represents an image class with some more functionality, and pixel values in range $[0, 255]$.\n",
        "In order to convert these images into `torch.Tensor`'s in range $[0,1]$, we can use the [ToTensor](https://pytorch.org/vision/main/generated/torchvision.transforms.ToTensor.html) transform.\n",
        "Furthermore, in `PyTorch` batches are created from datasets using the [DataLoader](https://pytorch.org/docs/stable/data.html#torch.utils.data.DataLoader) class."
      ]
    },
    {
      "cell_type": "markdown",
      "metadata": {
        "id": "q9s7rhj4iDKu"
      },
      "source": [
        "\n",
        "### Task 1: Dataset Loading\n",
        "\n",
        "\n",
        "Here, we use the [MNIST dataset](https://pytorch.org/vision/main/generated/torchvision.datasets.MNIST.html) of gray images for categorical classification.\n",
        "\n",
        "Write a function that returns the training and the testing set of MNIST, using the given transform."
      ]
    },
    {
      "cell_type": "code",
      "execution_count": 43,
      "metadata": {
        "id": "UdAXKwqUaQLx"
      },
      "outputs": [],
      "source": [
        "import torch\n",
        "import torchvision\n",
        "\n",
        "def datasets(transform):\n",
        "  trainset = torchvision.datasets.MNIST(\n",
        "      root=\"/temp/MNIST\",\n",
        "      train=True, download=True,\n",
        "      transform=transform)\n",
        "  testset = torchvision.datasets.MNIST(\n",
        "      root=\"/temp/MNIST\",\n",
        "      train=False, download=True,\n",
        "      transform=transform)\n",
        "\n",
        "  return trainset, testset"
      ]
    },
    {
      "cell_type": "markdown",
      "metadata": {
        "id": "2Abp751vaQLx"
      },
      "source": [
        "### Test 1: Data Types\n",
        "\n",
        "When we create the dataset with `transform=None`, all inputs shall be of type `PIL.Image.Image`, and all targets are integral."
      ]
    },
    {
      "cell_type": "code",
      "execution_count": 44,
      "metadata": {
        "id": "hAMpr6hhaQLx"
      },
      "outputs": [],
      "source": [
        "import PIL\n",
        "trainset, testset = datasets(transform=None)\n",
        "\n",
        "for x,t in trainset:\n",
        "  # check datatype of input x\n",
        "  assert isinstance(x, PIL.Image.Image)\n",
        "  # check datatype of target t\n",
        "  assert isinstance(t, int)"
      ]
    },
    {
      "cell_type": "markdown",
      "metadata": {
        "id": "rEhGkNEdaQLy"
      },
      "source": [
        "### Task 2: Data Loaders\n",
        "\n",
        "\n",
        "Create the dataset with transform `ToTensor`. Create two data loaders, one for the training set and one for the testing set. The training batch size should be $B=64$, for the testing set, you can select any batch size of your choice.\n"
      ]
    },
    {
      "cell_type": "code",
      "execution_count": 45,
      "metadata": {
        "id": "72TgSAmDaQLy"
      },
      "outputs": [],
      "source": [
        "transform =  torchvision.transforms.ToTensor()\n",
        "trainset, testset = datasets(transform=transform)\n",
        "\n",
        "B = 64\n",
        "trainloader = torch.utils.data.DataLoader(trainset, shuffle=True, batch_size=B)\n",
        "testloader = torch.utils.data.DataLoader(testset, shuffle=False, batch_size=128)\n",
        "\n"
      ]
    },
    {
      "cell_type": "markdown",
      "metadata": {
        "id": "_VmIeKXQaQLz"
      },
      "source": [
        "### Test 2: Batches\n",
        "\n",
        "Check that all batches generated by the training set data loader have the batch size of $B$ -- except for the last batch, which you need to compute by yourself (you might want to make use of the modulo operator `%`).\n",
        "\n",
        "Afterward, we check that all inputs and targets are of type `torch.Tensor`, that all input values are in range $[0,1]$ and that all target values are in range $[0,9]$."
      ]
    },
    {
      "cell_type": "code",
      "execution_count": 46,
      "metadata": {
        "id": "XQ-wtDlPaQL0"
      },
      "outputs": [],
      "source": [
        "# compute the size of last batch\n",
        "last_batch = len(trainset)%64\n",
        "\n",
        "for x,t in trainloader:\n",
        "  # check datatype, size and content of x\n",
        "  assert isinstance(x, torch.Tensor)\n",
        "  assert(torch.all(x >= 0)) and torch.all(x <= 1)  \n",
        "  assert len(x)==B or len(x) == last_batch\n",
        "\n",
        "  # check datatype, size and content of t\n",
        "  assert isinstance(t, torch.Tensor)\n",
        "  assert(torch.all(t >= 0)) and torch.all(t <= 9)\n",
        "  assert len(t)==B or len(t) == last_batch"
      ]
    },
    {
      "cell_type": "markdown",
      "metadata": {
        "id": "HCcVzXbiaQL0"
      },
      "source": [
        "## Networks\n",
        "As last week, we will rely on [Sequential](https://pytorch.org/docs/stable/generated/torch.nn.Sequential.html) to create networks with particular lists of consecutive layers.\n",
        "Particularly, we will investigate two different versions of networks, one fully-connected network and one convolutional network, with the same number of learnable layers.\n",
        "\n",
        "### Task 3: Fully-Connected Network\n",
        "\n",
        "\n",
        "Implement a function that returns a three-layer fully-connected network in `pytorch`.\n",
        "Use $\\tanh$ as activation function between the two fully-connected layers, and provide the possibility to change the number of inputs $D$, the number of hidden neurons $K$ and the number of outputs $O$.\n",
        "Use the following layers:\n",
        "\n",
        "1. A [Flatten layer](https://pytorch.org/docs/stable/generated/torch.nn.Flatten.html) to turn the $28\\times28$ pixel image (2D) into a $28\\cdot28$ pixel vector (1D).\n",
        "2. A [fully-connected layer](https://pytorch.org/docs/stable/generated/torch.nn.Linear.html) with D input neurons and K outputs.\n",
        "3. A [$\\tanh$ activation function](https://pytorch.org/docs/stable/generated/torch.nn.Tanh.html).\n",
        "4. A fully-connected layer with K input neurons and K outputs.\n",
        "5. A $\\tanh$ activation function.\n",
        "6. A fully-connected layer with K input neurons and O outputs."
      ]
    },
    {
      "cell_type": "code",
      "execution_count": 47,
      "metadata": {
        "id": "kUllttuBaQL0"
      },
      "outputs": [],
      "source": [
        "def fully_connected(D, K, O):\n",
        "  return torch.nn.Sequential(\n",
        "    torch.nn.Flatten(), \n",
        "    torch.nn.Linear(D, K),\n",
        "    torch.nn.Tanh(),\n",
        "    torch.nn.Linear(K, K),\n",
        "    torch.nn.Tanh(),\n",
        "    torch.nn.Linear(K, O)\n",
        "    )"
      ]
    },
    {
      "cell_type": "markdown",
      "metadata": {
        "id": "_nL0shNEaQL1"
      },
      "source": [
        "### Task 4: Convolutions Output (theoretical question)\n",
        "\n",
        "Consider the network as defined in Task 5.\n",
        "Assume that the input is a $28\\times28$ grayscale image.\n",
        "How many hidden neurons do we need in the final fully-connected layer for a given number $Q_2$ of output channels of the second convolution?\n",
        "\n",
        "..."
      ]
    },
    {
      "cell_type": "markdown",
      "metadata": {
        "id": "OkWbJWGbaQL1"
      },
      "source": [
        "### Task 5: Convolutional Network\n",
        "\n",
        "Implement a function that generates a convolutional network with the following layers:\n",
        "\n",
        "1. A [2D convolutional layer](https://pytorch.org/docs/stable/generated/torch.nn.Conv2d.html) with $Q_1$ channels, kernel size $5\\times5$, stride 1 and padding 2.\n",
        "2. A [2D maximum pooling](https://pytorch.org/docs/stable/generated/torch.nn.MaxPool2d.html) with pooling size $2\\times2$ and stride 2.\n",
        "3. A $\\tanh$ activation function.\n",
        "4. A 2D convolutional layer with $Q_2$ channels, kernel size $5\\times5$, stride 1 and padding 2.\n",
        "5. A 2D maximum pooling with pooling size $2\\times2$ and stride 2.\n",
        "6. A $\\tanh$ activation function.\n",
        "7. A flattening layer to turn the 3D feature map into a 1D vector.\n",
        "8. A fully-connected layer with the appropriate number of inputs and $O$ outputs."
      ]
    },
    {
      "cell_type": "code",
      "execution_count": 54,
      "metadata": {
        "id": "mS9cuYsSaQL1"
      },
      "outputs": [],
      "source": [
        "def convolutional(Q1, Q2, O):\n",
        "  return torch.nn.Sequential(\n",
        "        torch.nn.Conv2d(in_channels=1, out_channels=Q1, kernel_size=5, stride=1, padding=2),\n",
        "        torch.nn.MaxPool2d(kernel_size=2, stride=2),\n",
        "        torch.nn.Tanh(),\n",
        "        torch.nn.Conv2d(in_channels=Q1, out_channels=Q2, kernel_size=5, stride=1, padding=2),\n",
        "        torch.nn.MaxPool2d(kernel_size=2, stride=2),\n",
        "        torch.nn.Tanh(),\n",
        "        torch.nn.Flatten(),\n",
        "        torch.nn.Linear(in_features=Q2 * 7 * 7, out_features=O)\n",
        "  )"
      ]
    },
    {
      "cell_type": "markdown",
      "metadata": {
        "id": "6IL7ji_qaQL2"
      },
      "source": [
        "## Network Training\n",
        "For training and evaluating the network, we rely on standard functionality in PyTorch.\n",
        "We use the standard [categorical cross-entropy loss](https://pytorch.org/docs/stable/nn.html#loss-functions) together with a [stochastic gradient descent](https://pytorch.org/docs/stable/generated/torch.optim.SGD.html) optimizer.\n",
        "For training, we use the batched implementation of the dataset, for which we perform one update step for each training batch.\n",
        "After having gone through the full training dataset, we compute accuracy and loss values for the testing set (we simply make use of the testing set for validation).\n",
        "\n",
        "\n",
        "### Task 6: Training and Validation Loop\n",
        "\n",
        "Implement a function that takes the network, the number of epochs, and the learning rate.\n",
        "Select the correct loss function for categorical classification and SGD optimizer.\n",
        "Iterate the following steps for the given number of epochs:\n",
        "\n",
        "1. Train the network with all batches of the training data.\n",
        "2. Compute the testing set loss and testing set accuracy.\n",
        "3. Store both in a vector.\n",
        "\n",
        "What do we need to take care of?\n",
        "\n",
        "Finally, return the lists of validation losses and accuracies."
      ]
    },
    {
      "cell_type": "code",
      "execution_count": 49,
      "metadata": {
        "id": "I8q12fyYaQL2"
      },
      "outputs": [],
      "source": [
        "def train(network, epochs, eta, momentum):\n",
        "  # select loss function and optimizer\n",
        "  loss = torch.nn.CrossEntropyLoss()\n",
        "  \n",
        "  optimizer = torch.optim.SGD(\n",
        "      params=network.parameters(),\n",
        "      lr=eta, momentum=momentum\n",
        "  )\n",
        "\n",
        "\n",
        "  # instantiate the correct device\n",
        "  device = torch.device(\"cuda\")\n",
        "  network = network.to(device)\n",
        "\n",
        "  # collect loss values and accuracies over the training epochs\n",
        "  val_loss, val_acc = [], []\n",
        "  \n",
        "  for epoch in range(epochs):\n",
        "    # train network on training data\n",
        "    for x,t in trainloader:\n",
        "      # train\n",
        "      optimizer.zero_grad()\n",
        "      \n",
        "      z = network(x.to(device))\n",
        "      J = loss(z, t.to(device))\n",
        "\n",
        "      J.backward()\n",
        "      optimizer.step()\n",
        "\n",
        "\n",
        "   \n",
        "    # test network on test data\n",
        "    with torch.no_grad():\n",
        "      total_correct = 0\n",
        "      total_loss = 0\n",
        "      n_batches = 0\n",
        "      total_samples= 0\n",
        "      for x,t in testloader:\n",
        "        # compute validation loss\n",
        "        z = network(x.to(device))\n",
        "        J = loss(z, t.to(device))\n",
        "        total_loss += J.item()\n",
        "        n_batches += 1\n",
        "        # compute validation accuracy\n",
        "        total_correct += torch.sum(torch.argmax(z, dim=1) == t.to(device)).item()\n",
        "        total_samples+= x.size(0)\n",
        "\n",
        "      val_loss.append(total_loss/n_batches)\n",
        "      val_acc.append(total_correct / total_samples)\n",
        "\n",
        "\n",
        "  # return loss and accuracy values\n",
        "  return val_loss, val_acc"
      ]
    },
    {
      "cell_type": "markdown",
      "metadata": {
        "id": "tEssOE_PaQL2"
      },
      "source": [
        "### Task 7: Fully-Connected Training\n",
        "\n",
        "Create a fully-connected network with $K=100$ hidden and $O=10$ output neurons.\n",
        "Train the network for 10 epochs with $\\eta=0.01$, $momentum=0.9$ and store the obtained test losses and accuracies.\n",
        "Brave people can also train for 100 epochs (which will take up to 30 minutes)."
      ]
    },
    {
      "cell_type": "code",
      "execution_count": 50,
      "metadata": {
        "id": "EjW7zpuvaQL2",
        "colab": {
          "base_uri": "https://localhost:8080/"
        },
        "outputId": "b0bafa07-e0a9-4467-bb2e-95deba9cf29b"
      },
      "outputs": [
        {
          "output_type": "stream",
          "name": "stdout",
          "text": [
            "Computation time 966.1938481330872\n"
          ]
        }
      ],
      "source": [
        "import time\n",
        "fc = fully_connected(28*28, 100, 10)\n",
        "start = time.time()\n",
        "fc_loss, fc_acc = train(fc, 100, 0.01, 0.9)\n",
        "print(f\"Computation time {time.time() - start}\")"
      ]
    },
    {
      "cell_type": "markdown",
      "metadata": {
        "id": "eGW5qI6naQL3"
      },
      "source": [
        "### Task 8: Convolutional Training\n",
        "\n",
        "\n",
        "Create a convolutional network with $Q_1=16$ and $Q_2=32$ convolutional channels and $O=10$ output neurons.\n",
        "Train the network for 10 epochs with $\\eta=0.01$, momentum $=0.9$ and store the obtained test losses and accuracies.\n",
        "Again, 100 epochs will take up to 30 minutes."
      ]
    },
    {
      "cell_type": "code",
      "execution_count": 55,
      "metadata": {
        "id": "4hQSxjIEaQL3",
        "colab": {
          "base_uri": "https://localhost:8080/"
        },
        "outputId": "1b01a63d-9fde-4a77-bf62-49aa8cb85b24"
      },
      "outputs": [
        {
          "output_type": "stream",
          "name": "stdout",
          "text": [
            "Computation time 16.670158219337463 minutes\n"
          ]
        }
      ],
      "source": [
        "cv = convolutional(16, 32, 10)\n",
        "start = time.time()\n",
        "cv_loss, cv_acc = train(cv, 100, 0.01, 0.9)\n",
        "print(f\"Computation time {(time.time() - start)/60} minutes\")"
      ]
    },
    {
      "cell_type": "markdown",
      "metadata": {
        "id": "R2lhQiuyaQL3"
      },
      "source": [
        "### Task 9: Plotting\n",
        "\n",
        "Plot the two lists of loss values in one plot. Plot the two lists of accuracy values into another plot."
      ]
    },
    {
      "cell_type": "code",
      "execution_count": 56,
      "metadata": {
        "id": "8SMsfktXaQL3",
        "colab": {
          "base_uri": "https://localhost:8080/",
          "height": 308
        },
        "outputId": "622d5e69-8249-4582-d4b4-9b2147718e30"
      },
      "outputs": [
        {
          "output_type": "execute_result",
          "data": {
            "text/plain": [
              "<matplotlib.legend.Legend at 0x7ff21e5438b0>"
            ]
          },
          "metadata": {},
          "execution_count": 56
        },
        {
          "output_type": "display_data",
          "data": {
            "text/plain": [
              "<Figure size 1000x300 with 2 Axes>"
            ],
            "image/png": "[encoded data removed]"
          },
          "metadata": {}
        }
      ],
      "source": [
        "from matplotlib import pyplot\n",
        "pyplot.figure(figsize=(10,3))\n",
        "ax = pyplot.subplot(121)\n",
        "# plot loss values of FC and CV network over epochs\n",
        "ax.plot(fc_loss, \"g-\", label=\"fc_loss\")\n",
        "ax.plot(cv_loss, \"b-\", label=\"cv_loss\")\n",
        "ax.legend()\n",
        "\n",
        "ax = pyplot.subplot(122)\n",
        "# plot accuracy values of FC and CV network over epochs\n",
        "ax.plot(fc_acc, \"g-\", label=\"fc_acc\")\n",
        "ax.plot(cv_acc, \"b-\", label=\"cv_acc\")\n",
        "ax.legend()"
      ]
    },
    {
      "cell_type": "markdown",
      "metadata": {
        "id": "vua5OAWnaQL3"
      },
      "source": [
        "### Task 10: Learnable Parameters \n",
        "\n",
        "Estimate roughly how many learnable parameters the two networks have by analytically computing and adding the number of parameters in each layer.\n",
        "\n",
        "Fully-connected Network:\n",
        "- first fully-connected layer: $D*K + K = 784 * 100 +100 = 78500$  \n",
        "- second fully-connected layer: $K*K + K = 100 *100 +100 = 10100$\n",
        "- third fully-connected layer: $K*O + O = 100*10 +10 = 1010$\n",
        "- total: $78500+10100+1010 = 89610$\n",
        "\n",
        "Convolutional Network:\n",
        "- first convolutional layer: $(5*5+1) * Q1 =416 $\n",
        "- second convolutional layer: $(5*5*Q1+1) * Q2=12832 $\n",
        "- fully-connected layer: $(Q2*7*7+1) * O=15690 $\n",
        "- total: $15960 + 12832 + 416 = 28938$\n",
        "\n",
        "\n",
        "\n",
        "\n",
        "Now, compute the number of parameters in the networks by summing the number of parameters in each layer using `pytorch` functionality.\n",
        "You can use the `numel()` function from a `torch.Tensor` to provide the number of (learnable) parameters stored in a tensor.\n",
        "How do you obtain this list of all learnable parameters from a `pytorch` [Module](https://pytorch.org/docs/stable/generated/torch.nn.Module.html)?"
      ]
    },
    {
      "cell_type": "code",
      "execution_count": 57,
      "metadata": {
        "id": "aC_ZOtKUaQL4",
        "colab": {
          "base_uri": "https://localhost:8080/"
        },
        "outputId": "f81345c6-3587-486d-ae2d-57ad6fd1c071"
      },
      "outputs": [
        {
          "output_type": "stream",
          "name": "stdout",
          "text": [
            "Fully-connected Network: 89610\n",
            "Convolutional Network: 28938\n"
          ]
        }
      ],
      "source": [
        "def parameter_count(network):\n",
        "  param_ = 0\n",
        "  for param in network.parameters():\n",
        "    param_ += param.numel()\n",
        "  return param_\n",
        "\n",
        "print(\"Fully-connected Network:\", parameter_count(fc))\n",
        "print(\"Convolutional Network:\", parameter_count(cv))"
      ]
    }
  ],
  "metadata": {
    "colab": {
      "provenance": []
    },
    "interpreter": {
      "hash": "2dd53f8ad749bca69f7250ce75eb4f0def59db5cf79075a9716322ffc58e8a2e"
    },
    "kernelspec": {
      "display_name": "Python 3.8.10 ('DL')",
      "language": "python",
      "name": "python3"
    },
    "language_info": {
      "codemirror_mode": {
        "name": "ipython",
        "version": 3
      },
      "file_extension": ".py",
      "mimetype": "text/x-python",
      "name": "python",
      "nbconvert_exporter": "python",
      "pygments_lexer": "ipython3",
      "version": "3.8.13"
    },
    "orig_nbformat": 4,
    "accelerator": "GPU",
    "gpuClass": "standard"
  },
  "nbformat": 4,
  "nbformat_minor": 0
}