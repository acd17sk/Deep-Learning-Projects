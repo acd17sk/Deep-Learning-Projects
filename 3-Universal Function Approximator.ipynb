{
 "cells": [
  {
   "cell_type": "markdown",
   "metadata": {
    "id": "GB8xAE-NPf8o"
   },
   "source": [
    "# Universal Function Approximator\n",
    "\n",
    "\n",
    "The goal of this exercise is to train a two-layer fully-connected network to perform one-dimensional non-linear regression via gradient descent. To show the flexibility of the approach, three different functions will be approximated. First, the network and its gradient need to be implemented. Second, target data for three different functions will be generated. Finally, the training procedure will be applied to the data, and the resulting approximated function will be plotted together with the data samples.\n",
    "\n",
    "## Network Implementation\n",
    "\n",
    "A two-layer network is defined by parameters $\\Theta=(\\mathbf W^{(1)},\\vec w^{(2)})$ that are split into $\\mathbf W^{(1)}\\in\\mathbb R^{K\\times {(D+1)}}$ for the first layer and $\\vec w^{(2)}\\in\\mathbb R^{K+1}$ for the second layer. In our case, since we have only a single input, we have $D=1$.\n",
    "For a given input $\\vec x = (1, x)^T$, the network is implemented in three steps:\n",
    "\n",
    "1. Compute the first layer output, aka, the activation: $\\vec a_- = \\mathbf W^{(1)} \\vec x$\n",
    "2. Apply the activation function for each element of $\\vec a_- : \\vec h_- = g(\\vec a_-)$ and prepend the bias neuron $h_0=1$ to arrive at $\\vec h$.\n",
    "3. Compute the output of the network: $y = \\vec w^{(2)}\\ ^T\\vec h$.\n",
    "\n",
    "### Task 1  \n",
    "Implement a function that returns the network output for a given input $\\vec x$ and parameters $\\Theta=(\\mathbf W^{(1)}, \\vec w^{(2)})$. Remember that the input of the function $\\vec x = (1, x)^T$. Also remember to prepend $h_0=1$ in your implementation.\n",
    "\n",
    "We use hyperbolic tangent $(\\tanh)$ as the activation function:\n",
    "\n",
    "\\begin{equation*}\n",
    "    \\tanh(a) = \\frac{e^{a}-e^{-a}}{e^{a}+e^{-a}}\n",
    "\\end{equation*}\n",
    "\n",
    "Note:\n",
    "\n",
    "1. Use the `numpy` implemention of the hyperbolic tangent function.\n",
    "2. Use `numpy.concatenate` or `numpy.insert` to prepend $h_0$.\n",
    "3. Make use of `numpy.dot` to compute matrix-vector and vector-vector products."
   ]
  },
  {
   "cell_type": "code",
   "execution_count": null,
   "metadata": {
    "id": "RBpsuOooPf8r"
   },
   "outputs": [],
   "source": [
    "import math\n",
    "import numpy as np\n",
    "from tqdm.notebook import tqdm\n",
    "\n",
    "def network(x, Theta):\n",
    "    W1, w2 = Theta\n",
    "    a_ = np.dot(W1, x)\n",
    "    h_ = np.tanh(a_)\n",
    "    #h = np.insert(h_, 0, 1)\n",
    "    h = np.insert(h_, 0, 1, axis=0)\n",
    "    y = np.dot(w2, h)\n",
    "    return y, h "
   ]
  },
  {
   "cell_type": "markdown",
   "metadata": {
    "id": "SqqED4e3Pf8s"
   },
   "source": [
    "Test 1: Sanity Check\n",
    "----------------------------\n",
    "\n",
    "We select a specific number of hidden neurons and create the weights accordingly, using all zeros in the first layer and all ones in the second. The test case below assures that the function from Task 1 actually returns $1$ for those weights.\n",
    "\n",
    "Note: your function should pass the test below."
   ]
  },
  {
   "cell_type": "code",
   "execution_count": null,
   "metadata": {
    "colab": {
     "base_uri": "https://localhost:8080/"
    },
    "id": "BsAX3FxFPf8s",
    "outputId": "bb02d18b-def2-44eb-aecc-459306cf47dc"
   },
   "outputs": [],
   "source": [
    "K = 20\n",
    "D = 1\n",
    "W1 = np.zeros((K, D+1))\n",
    "w2 = np.ones(K+1)\n",
    "x = np.random.rand(D+1)\n",
    "\n",
    "y, _ = network(x, (W1, w2))\n",
    "assert abs(1 - y) < 1e-6\n",
    "print(\"Test passed\")"
   ]
  },
  {
   "cell_type": "markdown",
   "metadata": {
    "id": "HC7FoHbXPf8s"
   },
   "source": [
    "## Gradient Implementation\n",
    "\n",
    "In order to perform gradient descent, we need to define a loss function. As provided in the lecture, the $\\mathcal J^{L_2}$ loss function is defined over a dataset $X=\\{(\\vec x^{[n]}, t^{[n]})\\}$, that is defined as a list of tuples, as follows:\n",
    "\n",
    "$$\n",
    "   \\mathcal J^{L_2} = \\frac{1}{N}\\sum_{i=1}^N (y^{[n]}-t^{[n]})^2\n",
    "$$\n",
    "\n",
    "where $y^{[n]}$ is the output of the network from Task 1 when inputting $\\vec x^{[n]}$. Interestingly, however, we never explicitly need to compute the output of the loss function. It is only used to analytically compute the gradient as shown in the lecture.\n",
    "\n",
    "The gradient is composed of two items, one for each layer. Particularly, for a given dataset $X$, the gradient of loss $J^{L_2}$ is defined as:\n",
    "\n",
    "\\begin{align}\n",
    "  \\frac{\\partial \\mathcal J}{\\partial w_{kd}^{(1)}} &= \\frac{2}{N} \\sum\\limits_{n=1}^N (y^{[n]}-t^{[n]}) w_{k}^{(2)} (1-h_{k}^{[n]}\\cdot h_{k}^{[n]}) x_{d}^{[n]}\\\\\n",
    "  \\frac{\\partial \\mathcal J}{\\partial w_{k}^{(2)}} &= \\frac{2}{N} \\sum\\limits_{n=1}^N (y^{[n]}-t^{[n]}) w_{k}^{(2)} h_{k}^{[n]}\n",
    "\\end{align}\n",
    "\n",
    "### Task 2\n",
    "Implement a function that returns the gradient as defined in $(1)$ and $(2)$ for a given dataset $X$, and given weights $\\Theta=(\\mathbf W^{(1)},\\vec w^{(2)})$. Make sure that both parts of the gradient are computed. \n",
    "\n",
    "Hint:\n",
    "\n",
    "1. Make use of the the function implemented in Task 1 where appropriate\n",
    "\n",
    "Note:\n",
    "\n",
    "  1. This is a slow implementation. We will see how to speed this up in the next lecture.\n",
    "  2. You can make use of `numpy.zeros` to initialize the gradient.\n",
    "  3. The outper product can be computed via `numpy.outer`.\n",
    "  4. Remember that we used the $\\tanh$ activation function in our network."
   ]
  },
  {
   "cell_type": "code",
   "execution_count": null,
   "metadata": {
    "id": "SlBOAhETPf8t"
   },
   "outputs": [],
   "source": [
    "def gradient(X, Theta):\n",
    "    # split parameters for easier handling\n",
    "    W1, w2 = Theta\n",
    "\n",
    "    # define gradient with respect to both parameters\n",
    "    dW1 = numpy.zeros_like(W1, dtype=np.float128)\n",
    "    dw2 = numpy.zeros_like(w2, dtype=np.float128)\n",
    "\n",
    "    # iterate over dataset\n",
    "    for x, t in X:\n",
    "        # compute the gradient\n",
    "        y, h = network(x , Theta)\n",
    "\n",
    "\n",
    "        delta2 = 2 * (y - t)\n",
    "        dw2 += delta2 * h\n",
    "\n",
    "        delta1 = delta2 * w2[1:] * (1 - h[1:] ** 2)  # remove first element of w2 to ignore bias term\n",
    "        dW1 += numpy.outer(delta1, x)\n",
    "\n",
    "    # anything else?\n",
    "    N = len(X)\n",
    "    dW1 /= N\n",
    "    dw2 /= N\n",
    "\n",
    "    return dW1, dw2"
   ]
  },
  {
   "cell_type": "markdown",
   "metadata": {
    "id": "SQALbyfuPf8t"
   },
   "source": [
    "## Gradient Descent\n",
    "\n",
    "The procedure of gradient descent is the repeated application of two steps.\n",
    " \n",
    "1. The gradient of loss $\\nabla_{\\Theta}\\mathcal J^{L_2}$ is computed based on the current value of the parameters $\\Theta=(\\mathbf W^{(1)},\\vec w^{(2)})$.\n",
    "2. The weights are updated by moving a small step $\\eta$ into the direction of the negative gradient:\n",
    "\n",
    "$$\n",
    "    \\Theta = \\Theta - \\eta \\nabla_{\\Theta}\\mathcal J\n",
    "$$\n",
    "\n",
    "As stopping criterion, we select the number of training epochs to be 10000.\n",
    "\n",
    "### Task 3\n",
    "Implement a function that performs gradient descent for a given dataset $X$, given initial parameters $\\Theta$ and a given learning rate $\\eta$ and returns the optimized parameters $\\Theta^*$."
   ]
  },
  {
   "cell_type": "code",
   "execution_count": null,
   "metadata": {
    "id": "UZK1-vaHPf8u"
   },
   "outputs": [],
   "source": [
    "def gradient_descent(X, Theta, eta):\n",
    "    epochs = 10000\n",
    "    # perform iterative gradient descent\n",
    "    tqdm_e = tqdm(range(epochs), 'Epoch:')\n",
    "    for epoch in tqdm_e:\n",
    "        # compute the gradient\n",
    "        dW1, dw2 = gradient(X, Theta)\n",
    "\n",
    "        # update the parameters\n",
    "        Theta = (Theta[0] - eta * dW1, Theta[1] - eta * dw2)\n",
    "\n",
    "    # return optimized parameters\n",
    "    return Theta"
   ]
  },
  {
   "cell_type": "markdown",
   "metadata": {
    "id": "pNRN5xxSPf8u"
   },
   "source": [
    "## Generate Datasets\n",
    "\n",
    "In total, we will test our gradient descent function with three different datasets. Particularly, we approximate:\n",
    "\n",
    "1. $X_1: t = \\sin(2x)$ for $x\\in[-2,2]$\n",
    "2. $X_2: t = e^{-2x^2}$ for $x\\in[-2,2]$\n",
    "3. $X_3: t = -x^5 - 3x^4 + 11x^3 + 27x^2 - 10x - 64$ for $x\\in[-4.5,3.5]$\n",
    "\n",
    "### Task 4\n",
    "\n",
    "Generate dataset $X_1$, for $N=50$ samples randomly drawn from range $x\\in[-2,2]$. \n",
    "Generate data $X_2$ for $N=30$ samples randomly drawn from range $x\\in[-2,2]$. \n",
    "Generate dataset $X_3$ for $N=200$ samples randomly drawn from range $x\\in[-4.5,3.5]$. \n",
    "Implement all three datasets as lists of tuples: $\\{(\\vec x^{[n]}, t^{[n]})\\mid 1\\leq n\\leq N\\}$.\n",
    "\n",
    "Note:\n",
    "\n",
    "  1. You can use `numpy.random.uniform` to create uniformly distributed samples for $x$.\n",
    "  2. Make sure that $\\vec x = (1, x)^T$ for each sample.\n",
    "  3. You can make use of `numpy.sin`, `numpy.exp` and `numpy.pow` to compute target values."
   ]
  },
  {
   "cell_type": "code",
   "execution_count": null,
   "metadata": {
    "id": "Iiqv7Tc1Pf8u"
   },
   "outputs": [],
   "source": [
    "N1 = 50\n",
    "N2 = 30\n",
    "N3 = 200\n",
    "X1 = []\n",
    "X2 = []\n",
    "X3 = []\n",
    "for i in range(N1):\n",
    "    x = np.random.uniform(low=-2, high=2)\n",
    "    input_vec = np.array([1, x])\n",
    "    target = np.sin(2*x)\n",
    "    X1.append((input_vec, target))\n",
    "for i in range(N2):\n",
    "    x = np.random.uniform(low=-2, high=2)\n",
    "    input_vec = np.array([1, x])\n",
    "    target = np.exp(-2*x**2, dtype=np.float64)\n",
    "    X2.append((input_vec, target))\n",
    "for i in range(N3):\n",
    "    x = np.random.uniform(low=-4.5, high=3.5)\n",
    "    input_vec = np.array([1, x])\n",
    "    target = -x**5 - 3*x**4 + 11*x**3 + 27*x**2 - 10*x - 64\n",
    "    X3.append((input_vec, target))"
   ]
  },
  {
   "cell_type": "markdown",
   "metadata": {
    "id": "MLEvOCsLPf8u"
   },
   "source": [
    "### Test 2: Sanity Check\n",
    "\n",
    "The test case below assures that the elements of each generated dataset are tuples with two elements, that the first element ($\\vec x$) is a vector with two numbers, and that the second element ($t$) is a float."
   ]
  },
  {
   "cell_type": "code",
   "execution_count": null,
   "metadata": {
    "colab": {
     "base_uri": "https://localhost:8080/"
    },
    "id": "VX6IsIZ6Pf8v",
    "outputId": "b7059df7-2279-460b-d81b-76974b296c78"
   },
   "outputs": [],
   "source": [
    "assert all(\n",
    "    isinstance(x, (tuple,list)) and \n",
    "    len(x) == 2 and \n",
    "    isinstance(x[0], (tuple,list,numpy.ndarray)) and \n",
    "    len(x[0] == 2) and \n",
    "    isinstance(x[1], float)\n",
    "    for X in (X1, X2, X3)\n",
    "    for x in X\n",
    ")\n",
    "\n",
    "print('Test passed!')"
   ]
  },
  {
   "cell_type": "markdown",
   "metadata": {
    "id": "9DdJAJGnPf8v"
   },
   "source": [
    "## Function Approximation\n",
    "\n",
    "Finally, we want to make use of our gradient descent implementation to approximate our functions. In order to see our success, we want to plot the functions together with the data.\n",
    "\n",
    "### Task 5 (theoretical question)\n",
    "\n",
    "When looking at the example plots in the exercise slides (exemplary solutions for the plotting Task 8), how many hidden neurons $K$ do we need in order to approximate the functions? Is there any difference\n",
    "1 between the three target functions?"
   ]
  },
  {
   "cell_type": "markdown",
   "metadata": {
    "id": "UXDuiOTEz6lu"
   },
   "source": [
    "**Answer:** Yes, there is a difference between the three target functions according to their complexity. The first one has the least complexity, followed by the second one and last we have the third with the biggest complexity. We choose the number of hidden neurons depending on the complexity of the function. More complex functions require more hidden neurons."
   ]
  },
  {
   "cell_type": "code",
   "execution_count": null,
   "metadata": {
    "id": "rLQ4lAJXPf8v"
   },
   "outputs": [],
   "source": [
    "K1 = 5\n",
    "K2 = 6\n",
    "K3 = 80"
   ]
  },
  {
   "cell_type": "markdown",
   "metadata": {
    "id": "JlJSSMoGPf8v"
   },
   "source": [
    "### Task 6\n",
    "\n",
    "For each of the datasets, randomly initialize the parameters $\\Theta_1,\\Theta_2,\\Theta_3\\in[-1,1]$ according to the number of hidden neurons estimated in Task 5.\n",
    "\n",
    "Note:\n",
    "\n",
    "  1. You can use `numpy.random.uniform` to initialize the weights.\n",
    "  2. Make sure that the weight matrices are instantiated in the correct dimensions."
   ]
  },
  {
   "cell_type": "code",
   "execution_count": null,
   "metadata": {
    "id": "NZxHT6yIPf8w"
   },
   "outputs": [],
   "source": [
    "Theta1 = (numpy.random.uniform(low=-1, high=1, size=(K1,2)), numpy.random.uniform(low=-1, high=1, size=K1+1))\n",
    "Theta2 = (numpy.random.uniform(low=-1, high=1, size=(K2,2)), numpy.random.uniform(low=-1, high=1, size=K2+1))\n",
    "Theta3 = (numpy.random.uniform(low=-1, high=1, size=(K3,2)), numpy.random.uniform(low=-1, high=1, size=K3+1))"
   ]
  },
  {
   "cell_type": "markdown",
   "metadata": {
    "id": "GoJNJSHUPf8w"
   },
   "source": [
    "### Task 7\n",
    "\n",
    "Call gradient descent function from Task 3 using the datasets $X_1, X_2, X_3$, the according created parameters $\\Theta_1,\\Theta_2,\\Theta_3$ and a learning rate of $\\eta=0.1$. Store the resulting optimized weights $\\Theta_1^*, \\Theta_2^*, \\Theta_3^*$ and the loss values.\n",
    "\n",
    "Optimize the learning rate $\\eta$ for each of the three functions. Do you see any differences? What are the best learning rates that you can find?\n",
    "\n",
    "WARNING: Depending on the implementation, this might run for several minutes!"
   ]
  },
  {
   "cell_type": "code",
   "execution_count": null,
   "metadata": {
    "colab": {
     "base_uri": "https://localhost:8080/",
     "height": 1000,
     "referenced_widgets": [
      "33b6bd42f8fa4fffb95819676b62801a",
      "192a3e88b16a4d20ae992c86a8edbbc4",
      "4952f9418e8c4ba3bbd081b743651010",
      "1a45fa143c09429c8ef6b29a55efc47c",
      "1ecfeef1779746aea342759da3f31963",
      "14a65a0529fc42f9993210ca8a1c29b4",
      "8dd124fe095d43a484173571a8c2f957",
      "e808854f418e4ce289fd004a4627ab12",
      "7e1cadb2e0904a01ad6c1232e94d7f12",
      "bbad95483a304ec1a127c1d2e4376cfd",
      "06d1ff1c769b4edd9c5e6c901fb3d94f",
      "3f78bd9387fb411396983ba1d1ef2e63",
      "fef0b534f17148bba9e94e46b6143ea9",
      "530fd1904269496a8a05281fb6f443d6",
      "3daab7cc9bd849f0a52058bf484388d1",
      "0a4c4b0512f24f3f9ee0f0781cdc5cc7",
      "de014be5ae3445a69536c624f862fbf3",
      "65ec62ab94db4b1cb4529579c551e44c",
      "d82268c07a8c4b3c938aecd4bff72f66",
      "d17496910c8940219eef3a36255cd238",
      "4270af298b0f4a8e93f17ee9e5ae7c2d",
      "851ac5edd4ab4a1cb3064ae81c43e547",
      "e9bc1730838545e7a0de107fb6e05b3e",
      "3f1ebb8b0cfc4a20863efedff40f157b",
      "d3d30ffd105b4e42b35ab71016c385d6",
      "f33a4bd106e64f9594da12fe2bb1a163",
      "9d8bb2fc933b486f80067219740f622a",
      "9ec8b38145994c328c5cf63a8b17d24e",
      "4fc8475d93474c56826e625a6c06939a",
      "9467c35d2bf64d36879f072c8c9854f4",
      "e5f10d916b374372a2a763d6c9c1219a",
      "0d6e9bf72ae9453bb9b27477cb8bedba",
      "ea16f81572d1466583326b11176368cd",
      "69836197be624b3aa5227bc05cd8c877",
      "02ae9c47011c4998b46929d443f75b48",
      "076c1de353d445bd8bc8b0129cdbad91",
      "68cd13045dc046699346cca76f914fcf",
      "315fc355998d4ca08313f86811d98008",
      "c94d34459aca4cdf8ef47f75d1ca4322",
      "b4f2b34a282f4ec58631dfbec56196a2",
      "677c655ef5e14ceeab8b5bb8775edc87",
      "cb7c3007618240c5a3f828366ebb3517",
      "47f8c1e671e74f628b3f17189cc41907",
      "4097543834af4cdd9e2f3f4bbfdbe851",
      "5bcfffd8737546288c7af21799b16065",
      "f3c736bd7e05431981d2cdade56fc4e1",
      "154d701d17d54072b2840a4aaa7a33ef",
      "86a2482f79ba42969668c170566fa970",
      "769c160d901640fcad748c8293d9b00c",
      "186c45e9111f41b7a5d039ca08b6bcd4",
      "029bc6a82b2c4ba3ac33c08a76126d54",
      "41e2cc70503a40f69dad6bdf5e871996",
      "5e108eaf9ae645b8bec4940317d830d0",
      "9fc4eeb6bcfd423f8ac4fc98cee6be8b",
      "718d685bd48c4f3db65c36c3981275ec",
      "a627aba447714881a7bece6b5ea79728",
      "663e6ffb08664c61810fae18560ec03f",
      "b5961a5f51ef4011a1e669887b1c174b",
      "a55dedea6b484486855ea4ec35e4f514",
      "4b7c2028f8f74c9f919f4be2a908ba86",
      "70d82b80679f406aa12271aa5b0e5921",
      "3180e6464cc144deaff07308a136692a",
      "520e6236b25443e2ad954743f436fa93",
      "346c4f80b5cf4fe683cb60c482640bb5",
      "1046cb21338c42b7b9fcd0576de29295",
      "1788e0c9221e4e03b0df3d867162c0ca",
      "d4cbfe0c5af847ee8c64ee907e821d88",
      "99481b73933f445fa7c657df2682e234",
      "d34ae09aa5df43a89d418ed81d882488",
      "61d719f100a448d491e5ea9e4d009d05",
      "fa565044544749ee8ac928d36d31c0c6",
      "a19c37b39ec347cb9296bf35943382c4",
      "4d93050a4aa24a4b92a4296ee1c92f7a",
      "b0d5926ccb6b43f18650a9978d8816d0",
      "6e6e50049e6b4b5c856b8269622f1bc8",
      "a4da4779fc414cbf950428623e73c7c8",
      "a100dd977cc94f3eb14c4cf1c1bab119",
      "b5daa9e4f7fb45f6a8d3a7a5b8e8838f",
      "cbaef6c92a874427854a0b3f6d23d397",
      "da3017ea16614af884018381b3609a7c",
      "d8fe0a6d09d7478aaef1b9a7bfd3a971",
      "17fa6d903fe646beb71a4aae3e029e6f",
      "7dba70012bf549d2a6247b3d73c6b583",
      "aece412d86ac40349567470e9270e15b",
      "2af4bc80c40d42ae91ca803f0070b60c",
      "efedb08825c14ddebeedceac60fabc51",
      "67f12ec49d3745c893acc51b66aad3d9",
      "86f87c0aa7894361b48cfa392cba6519",
      "824fb4f4ba834b858f60d8736e313fa3",
      "8007f10c7649462881ff19710e98f869",
      "f12b8636261747dfbb04210487919863",
      "15f50916536f4bdcb5813ecb84243e6d",
      "310c320f5c9f499e937ef5f718fb9d7c",
      "fcd23be17d7e41309c4dff7fc638a760",
      "30813c4612a6454ca31c28baee3fc2cb",
      "a830938f238a4a85b8d4637af4f11ff5",
      "1001ed7b9cd448abba3f85b60061043f",
      "e33b4c913e554b7dbc210174a75f61bc",
      "78a1d22ec19a4d8c82954ce9f13a631f",
      "4c6f294629e245498d1e1090bfa00218",
      "e94b7ec574e04a1284b38f1901e3a3ad",
      "e68bc658059a41e99db2045ea4b5f6e6",
      "34981088048f40089e7265310290aa3b",
      "9a109b2fa74d4b0cafaaca9b7d753719",
      "09fed4aecc0b4a6aa771bc5d5a608c64",
      "525ebdb248b940bc9f4466aca3d31b55",
      "826a06dd0e9b450ca8ae1fcb6adb7dd5",
      "6981989d230a4a3fa6309cf4d87cac05",
      "357c59385c6d4a78ae33bd62b0948a74",
      "eb2c6390510043d9850ef96fd2470c69",
      "25e4096be69a4dc5b58811c6106b88a5",
      "7be7ded650ba455ca13d935c21fc920b",
      "73f0a7f19c5a4e3794cddd43fb990b13",
      "2c3fefae27d24ad8a6ea464700e65f17",
      "e95ad1d395514cb382e6b75c1dd20341",
      "8f77311eb89c4d0f91ab4ceffbd90539",
      "5f903838d87b47848c839280b6cdec0f",
      "19ed7a54b7fd4a41bf16c39a4ef9a7b0",
      "43fefd90b39b4f80b222c57cf1bc78e7",
      "f65134e0aa79479080f5d0614fce0729",
      "9064f470e3374e97b536e3885361791e",
      "b2b594b8ac654e5ea011adb19498d345",
      "7f702d0e71294bbfae3afdb18b4d5470",
      "4ec5aa0005b44af5af9767213bb8c440",
      "4dbb474259eb44cdaca82b23f7ea94e5",
      "47a79892f05e4be3a29145dcae48de07",
      "8bc775316b70464580b1f82cdf0af15e",
      "1547d8a508f54df2814cd65aec848ea9",
      "479e61fff526417cb1be6ef89cb4cf64",
      "0b35215c9e304c598d30a4fe8bbc8294",
      "3d13f71ab17b49ebb9b41aaf9591a9c4",
      "1ee10d9f046c4ade9699d4da80d05b68",
      "e8ace5df1fec4e5d907aec5cbe7142f3",
      "30d60975422e4694bb118aa43bde9858",
      "bb162ac0b2c3439f82cf48220c7187f2",
      "3265db8d06274da0a7558012b21ebfae",
      "0d9105f22c2a44158004f5e790311b47",
      "1320afda603842749b00788a2757d690",
      "b03138399ed04d0fa56ffbbe4b1ee5b7",
      "bf1db36cc5844fb18c6dbc15e0a214d1",
      "3df7b8b1627d48948c33a78363f28d56",
      "45e4e27dfbd54bfe8c12eecd21940c72",
      "92ba382022804af2a9e22c0c9dc8e553",
      "1fbfe5a023894fcda080f6bfc884d6eb",
      "e78386b20b5b466b9943dc0665521a9c",
      "a589eeac59a048b387a321c149fe4a87",
      "a44f6841bc5f4fa7a6dc5968d0dd490c",
      "df353dda4823475b8eb954a430e29c5d",
      "ed70fa4d51364d4fac25b26acabc257e",
      "68843a40412043d18309e9efaa216799",
      "20b317824cad410ebf8b1b547ac41d2a",
      "325842708c0a4bccb47d078573ae2bf0",
      "c97c2084f9a74274ba8784d7e087008f",
      "d5c9ad6ca8fd4c13ae0c854bd05505a4",
      "3ded9f9f070c48dd982e4475024d19d5",
      "a33baf80ff1042d8a6a8d48d85531b5a",
      "754e9510736c45c098c30cf11949a11c",
      "39de39ebbfed41cf9f9c798668d1c626",
      "a21824f66c584b06a60133ba8bf32390",
      "3413ca1773414da485cfdb7df2ea4489",
      "4f8da6f0193f47f59eb9797f76e1025c",
      "5ae850db0df54c93950d0f2825ffac1f",
      "6827c1bd12ad476198d83e53071dcd5a",
      "3cc5cf1ce3874fb9a4b5406260dfa0af",
      "4401430c3eaf4303835a2cd94436c53d",
      "123135a7ae79436b88e687406695c87c",
      "ad4670eab2cc415d8e3f7cb71a353c97",
      "901aa0b063694db7b81ebf7c836b04f2",
      "a8888faa5f1a45d68c3cfc6dfa2a3d17",
      "761ed4a598514d5b98822696e8b4f322",
      "7fb6aa03c602440aa5725c531f10f315",
      "6c0bcc010e3b402b90ba8aa2c78f40c8",
      "eed519027fa0440daa0a6e1c725a7cca",
      "8b81a722698b4d2eb3ab8c998f48caed",
      "5e509e12b2504b82ac6c6ebb05099943",
      "c8b1b7a1470c4b53901c51fe4abbd2d4",
      "c37d5ad41dbb440eb3e057e8eed8ef61",
      "6a84ee07d02f422e9cfc7c725e4dbfc7",
      "08d6ac83b2f94ffeba0d43061fae231c",
      "525275e1ce754025a55271524ceb7903",
      "cc750a4a7e2f4c04ad2991a1b61afc82",
      "a49da903b829439f8741f76c5efd2a8b",
      "bf152c2436f041bda6aee0a46d157758",
      "33b925aff92047bc892ad34a1e60c834",
      "9a86f97ce8264acaab934c7a13faa59d",
      "c1ae0d3b838849029a349b74964dd1e5",
      "54384ae240cb4d85ae47bb4138ec05d2",
      "264d8374c4a948a68c7c7010940334c5",
      "b60989e167e04e5fbd1669c408bc7089",
      "acd230604f7043318effca5cc0676ea4",
      "b956450f82a24075884d9f0da3db487d",
      "d896b009a8be4ec98f7d53c08131c6bb",
      "04b50053eb364d39925c95f7cc2a5828",
      "5ebe2e71dd1c4a7585471c9e1ba863e0",
      "0775ff1cea8242d9ae5d125b394f9701",
      "796f19042cf34b6e9c154d4205acb99c",
      "adf65c436b85439382aabd85971e6db2",
      "a699084085ac48b8b437ea9c08e5b0c4",
      "7a66521eb0fd4aa0af9dfb3a96469170",
      "3e219264b52848288741a07971973050",
      "7d547409afb94b5e9952ed58d356e8af",
      "ade79c25d4204e8cb719f12817fd1b61",
      "f5d5e3af1ea140f8a5195b8d4db0a71b",
      "85402f590d8b40a6ab26951de0136504",
      "5b46a7fdec3d44c0b61c550baa12d021",
      "5064c4bb2f44422aa6df28d3f1d5c667",
      "027c849b90c04745a06cab9fe3a4a551",
      "5dc81a787bef4e76aea2657d52c5c29e",
      "66dcf2d57b394ca0b91a07bb786cb3c7",
      "15d693aa02ed42a1bec9cfde27dc488c",
      "08b10e111e6a44aa8785da387ddecef8",
      "924f217374fb412c80c17e0c670b26ce",
      "b979a8957c124a4988d0a7f0f5ba9a27",
      "d7eb7baa7f8e4cf9931a8bbd0cf341d6",
      "478bbcc6ff6449af9212bce132a287f3",
      "3cccfde9b50a44ac9099d9d2a28974a4",
      "517dce08549e4acc87bb657233c8c938",
      "150a4c2c5ab942bd87ebdefa9aeba616",
      "a5d13790e1504b49a28ac995f7495efe",
      "1874532b87d64f1fbd2b50fd7eabbe4e",
      "624ccab6602e415abe2f13f3cfee4c86",
      "19831a8fc0984daaaac31419b445c2e9",
      "b5e18103ab554fea903846b9800a3903",
      "44e182b1c2a44630bd13df1345bcfd39",
      "1c5e6a239f494d1aafe1e68bab67a1c8",
      "faaddf2ae044438eb5490fbd73e7add2",
      "33dbc43c7fe047c48c795beffe7f7b25",
      "1ccd202a800545e398bd73e8f209a224",
      "0f85ebb612f340429e47e015690bf404",
      "c257ae14e3c34049a2299ca0a254cea2",
      "d55f032b19f6462c8fb24395adc26098",
      "4f8b1af5cf5c46bfa14fe25c2e27b3b7",
      "4694b5ca66614ee6a77cd9fbb49c2b7f",
      "604351753968474c8f55ec1ca853362a",
      "9cc97603511e4365ba990c309088da23",
      "283fdfe94678488991b20d57fc3f8811",
      "5bb26b0248be403898d07e894630d4bd",
      "d99a9ff5681d4cddb14521f95ad3ac8d",
      "6e2c4667955b4787807631d6a397c68d",
      "7fbd2129a040459b8194ef13f042c4ff",
      "9223bf09811e4323b2f6fd5f9442c707",
      "345e0840ae6149bcb363a4b8d0bff87b",
      "4e273eef5baa469fbd5e43a3b00737c5",
      "8015c81303ec4bf48c2a75dbc2241743",
      "d84406ca3aa94cf181c7743391573d38",
      "02ae4b7483c84836bd4f77bf5dd8a7c9",
      "6c5688697ae241a18f967b6eabed8181",
      "4c54c705f3fe4253a59d57f59318e3c4",
      "9d07ad5eddfa43d9b9e6ed68ebbbbc70",
      "5da16ea8a63a4f008b9c6a41a2ef22af",
      "ea0a33f53b514acb887ab40db40126c1",
      "d515204bcac840808ab30599f81094e1",
      "be8ca26a3c094287bc714f4a8d19d8d8",
      "6631ffe34e5341468aca498918313771",
      "87256affb193471a9522e29b4a50c6e2",
      "bf0b8a83b62c493cad3f1f0ac223bf4b",
      "304fd5a96c294da586aa2268c6177a7c",
      "04b557f57cef42bd91cfe18fd280416e",
      "f0787f7eff5f401bbea7a38087e82426",
      "22cbf99a149d4b0d8d1246fae91117e8",
      "f0943372f124412bb8fddaf30b368f75",
      "14937121c3c843c28158217431007204",
      "1e0dfe5fab2841f8a4bcdc13fc6cf9d4",
      "0def08dcbfc0459fae24fb7673f96f4a",
      "f2920d50be0245ada2018be3b387fc99",
      "a2f63e3fa75a41cca0ad4095b947e2fe",
      "d882581ab11b4451b58a8fa2abc3804a",
      "b0fed2c309424185b037ea93cce27cbb",
      "d2ee5dcfec0f468194ca2ec6469fcc94",
      "2cdb0feb41d44e07a512cbae65bf4ac6",
      "096b79f54b03459db5da84d536d513c7",
      "74c348c444f04bd290563f76715da5eb",
      "faf4b1b4d17a47218d396e2e98713c16",
      "2b55cd8e30174b1da57e462498cc8940",
      "cd1cea62aa1c47bcb075cb936e6fbb88",
      "02916fc19f484c9d9543f65a8ea2f5a3",
      "593043ddd21c49aaa1370d5a6f6843e1",
      "4987c0a4f8524e618e09bee051753ec8",
      "2718cc9b67f24dfa88942d97e5d46080",
      "b491f9aa05f94af088231d5826bf2932",
      "1d2a288a62554bcd84408814d525e565",
      "a8f18ad1f0024bafaffab04e29ed8705",
      "b5b79a2f501444f0b305cb8cfa0d6d49",
      "63c446d3a7274125b59e6b9886997a33",
      "4f58c653e4a64920b6c90da3b2bd0834",
      "f68e13911d4d49afb9665516aefadbd6",
      "262d3641b0f644948c6ce54f56ead8cf",
      "3a06091fb6bc4fb4aedb18aa57242b62",
      "c6b83aabf1ce422b85e3da6035672cc5",
      "c23e3c6d666644fda06f9361bfa34a78",
      "7a93b3721aaa4d2abb116b80c25da508",
      "3d3b3069be6c468da06fdb0aa05b2b3e",
      "1ee8359f215d42f3a8453eaf82d12283",
      "c9a94423908e4160a38bc9aa0d26fc15",
      "8cb459d9b4494b109df45e86af026565",
      "feea79ecd88741b087a6c28355f025f1",
      "785b08cb29794fe5853e2a2876d84611",
      "0d3c1dc35aee4c48af0a9f5cd628d9b0",
      "8aca97b9bcde4a279d0811772fb8d1bd",
      "1827dfaaabcb404492cf562db3d4a601",
      "3a7cd65393bd464c97eea005edc8a9bd",
      "fa70cc338a1141c88b427f51d339ec5d",
      "5b2bde221e7645ea95193eec5ee468c3",
      "bb16f7bf36bb45ab94824abe84ee0af5",
      "cbe4bca4700d400782be1e18466984c4",
      "e3a3f29a39924ee1ba698e96d0a3e59c",
      "3e676ecec85a49f48281f3652d365681",
      "0a08990a30c845d8bea06f0deb96d7a4",
      "b552bb39cfd64d9c95d3d519ef95cf97",
      "66e41723dd554c718e09143108d11958",
      "f5a772eed0ac4995be1cde98161fc227",
      "f34d3b4c89864d88a4105939f5b826a8",
      "a06471906d0b4adea974ad036e21a370",
      "19fdb673510b449ba5228da5a7127dd3",
      "217ebbf8211f4dfcb9c58304a9d8802c",
      "78af0a1acb244d0994f850fb743f6f27",
      "b37990c506014d58a984cbb52c51d3dd",
      "5a7ee74900e9438381602a5b0138412e",
      "d90beba0a3dd425d85b996c06ff2b882",
      "caca83fa71b64908ad4086d6c68ce73e",
      "f412e18f723449c39bd2bdc7340c6217",
      "071b346f439b4634aca6b4432e5fda2b",
      "cbae4ca9b30d41a0b5491304ea960d30",
      "f8eea78619f34cc2a29d08fa7c5ea734",
      "3ea4a2e2862e4f26a572fda9ba0b230a",
      "55dbe4c4bd714dceb060eb60a40a896f",
      "41915546449f42838b496b5b37f779ae",
      "b0840eee98f64653b648a8ad97d65ad4",
      "37602b9dc3534c97a202a94ae1a75a6b",
      "18ee65ea015d4d66b1ee839401a656dd",
      "e66cb33502174b9eb7f69b7261cbc870",
      "99602c6bbe454085a46718c15cb9ec5e",
      "035733a703764bc58d6c2e9204a72a90",
      "7c43ec4c7ba44308852946115a3eb0e2",
      "6ec25788fd824b8c992a1f5155546021",
      "d2d755ba0a7a47ce98301f2094751aed",
      "566e05d4cbf141e68b098e3861c5d692",
      "167ec60707764d08bf4e4157dc19f1d5",
      "9468da0094714fc28719bab88003806b",
      "3c6092c4dd2848d7acee73e92674872b",
      "7a5319939cf04e4792678b4b781fa1bd"
     ]
    },
    "id": "Cx0fLOvVPf8w",
    "outputId": "4fb6ce34-1dc4-46fb-a023-df8e92936040"
   },
   "outputs": [],
   "source": [
    "import copy\n",
    "\n",
    "theta_star={}\n",
    "\n",
    "tqdm1 = tqdm([(X1, Theta1),(X2, Theta2),(X3, Theta3)], 'Dataset:')\n",
    "for i, item in enumerate(tqdm1):\n",
    "    X = item[0].copy()\n",
    "    Theta = copy.deepcopy(item[1])\n",
    "\n",
    "    theta_star[i+1] = {} \n",
    "    \n",
    "    tqdm2 = tqdm([0.1, 0.05, 0.01, 0.005, 0.001, 0.0005, 0.0001, 0.00005, 0.00001], 'Learning Rate:')\n",
    "    for lr in tqdm2:\n",
    "\n",
    "        theta_res = gradient_descent(X, Theta, lr)\n",
    "        loss = np.mean([np.power(network(x, theta_res)[0] - t, 2) for x, t in X])\n",
    "        \n",
    "        theta_star[i+1].update({lr: {'theta': theta_res, 'loss': loss}})\n"
   ]
  },
  {
   "cell_type": "code",
   "execution_count": null,
   "metadata": {
    "colab": {
     "base_uri": "https://localhost:8080/"
    },
    "id": "OEAELPovz6lx",
    "outputId": "b57bd25f-16f0-4074-f4f1-a726cd7572ee"
   },
   "outputs": [],
   "source": [
    "for k,v in theta_star.items():\n",
    "    print(f'For K{k}:')\n",
    "    print('--------')\n",
    "    for lr, res in v.items():\n",
    "#         print(lr,res)\n",
    "        print(f\"LR: {lr}, Loss: {res['loss']}\")\n",
    "    print('=======================================')"
   ]
  },
  {
   "cell_type": "code",
   "execution_count": null,
   "metadata": {
    "colab": {
     "base_uri": "https://localhost:8080/"
    },
    "id": "TF0_tKnN8KXu",
    "outputId": "ce5349c0-a9ee-46fc-cbb3-cde43c541bad"
   },
   "outputs": [],
   "source": [
    "best_LRs = {}\n",
    "for i in theta_star.keys():\n",
    "    k_losses = {v['loss']: k for k,v in theta_star[i].items()}\n",
    "    min_loss = np.nanmin(list(k_losses.keys()))\n",
    "    best_LRs[i] = k_losses[min_loss]\n",
    "    print(f'For K{i}:')\n",
    "    print(f\"The LR with min loss is: {k_losses[min_loss]}\")\n",
    "    print(\"-----------------------------------------------------------\")\n"
   ]
  },
  {
   "cell_type": "code",
   "execution_count": null,
   "metadata": {
    "colab": {
     "base_uri": "https://localhost:8080/"
    },
    "id": "aBG0ZHA4BmGN",
    "outputId": "928930e6-7c5b-481f-f1c0-59e16e8b75f8"
   },
   "outputs": [],
   "source": [
    "best_LRs"
   ]
  },
  {
   "cell_type": "code",
   "execution_count": null,
   "metadata": {
    "colab": {
     "base_uri": "https://localhost:8080/"
    },
    "id": "BKLXZDrNBZed",
    "outputId": "3362b907-da4e-4cab-9675-6a9fcf660a09"
   },
   "outputs": [],
   "source": [
    "weightsk1 = theta_star[1][best_LRs[1]]['theta']\n",
    "weightsk1"
   ]
  },
  {
   "cell_type": "code",
   "execution_count": null,
   "metadata": {
    "colab": {
     "base_uri": "https://localhost:8080/"
    },
    "id": "sO56QYE6BlEp",
    "outputId": "f1ca6a24-8313-47e4-95bd-1e1c0ebc0005"
   },
   "outputs": [],
   "source": [
    "weightsk2 = theta_star[2][best_LRs[2]]['theta']\n",
    "weightsk2"
   ]
  },
  {
   "cell_type": "code",
   "execution_count": null,
   "metadata": {
    "colab": {
     "base_uri": "https://localhost:8080/"
    },
    "id": "FxUDqBuVBlIn",
    "outputId": "11b5f4c1-13f2-43a0-94ae-634a1d8ca01b"
   },
   "outputs": [],
   "source": [
    "weightsk3 = theta_star[3][best_LRs[3]]['theta']\n",
    "weightsk3"
   ]
  },
  {
   "cell_type": "markdown",
   "metadata": {
    "id": "nnN6S9YbPf8x"
   },
   "source": [
    "## Data and Function Plotting\n",
    "\n",
    "### Task 8\n",
    "\n",
    "Implement a plotting function that takes a given dataset $X$, given parameters $\\Theta$ and a defined range $R$. Each data sample $(x^{[n]},t^{[n]})$ of the dataset is plotted as an $''x''$. In order to plot the function that is approximated by the network, generate sufficient equally-spaced input values $x\\in R$, compute the network output $y$ for these inputs, and plot them with a line.\n",
    "\n",
    "Note:\n",
    "\n",
    "  1. The dataset $X$ is defined as above, a list of tuples $(\\vec x, t)$.\n",
    "  2. Each input in the dataset is defined as $\\vec x = (1,x)^T$.\n",
    "  3. Equidistant points can be obtained via `numpy.arange`."
   ]
  },
  {
   "cell_type": "code",
   "execution_count": null,
   "metadata": {
    "id": "XtcMq-rSPf8x"
   },
   "outputs": [],
   "source": [
    "import numpy as np\n",
    "from matplotlib import pyplot\n",
    "\n",
    "def plot(X, Theta, R):\n",
    "  # first, plot data samples using a more direct extraction method\n",
    "  x_coords = [sample[0][1] for sample in X] # Gets the actual x-value from ([bias, x-value], y-value)\n",
    "  y_coords = [sample[1] for sample in X]     # Gets the y-value\n",
    "  pyplot.plot(x_coords, y_coords, \"rx\", label=\"Data\")\n",
    "\n",
    "  # define equidistant points from R[0] to R[1] to evaluate the network\n",
    "  x = np.arange(R[0],R[1],0.01)\n",
    "  # compute the network outputs for these values\n",
    "  y = network(np.r_[np.ones(len(x)),x].reshape(2,len(x)), Theta)[0]\n",
    "  # plot network approximation\n",
    "  pyplot.plot(x,y,\"k-\", label=\"network\")\n",
    "  pyplot.legend()"
   ]
  },
  {
   "cell_type": "markdown",
   "metadata": {
    "id": "5gOxPhjwPf8x"
   },
   "source": [
    "### Task 9\n",
    "\n",
    "For each of the datasets and their according optimized parameters, call the plotting function from Task 8. Use range $R=[-3,3]$ for dataset $X_1$ and $X_2$, and range $R=[-5.5,4.5]$ for dataset $X_3$. Note that the first element of range $R$ should be the lowest $x$-location, and the second element of $R$ the highest value for $x$. Did the networks approximate the functions? What can we do if not?"
   ]
  },
  {
   "cell_type": "code",
   "execution_count": null,
   "metadata": {},
   "outputs": [],
   "source": [
    "figure = pyplot.figure(figsize=(10,3))\n",
    "\n",
    "# plot first function\n",
    "pyplot.subplot(131)\n",
    "plot(X1, weightsk1, (-3,3))\n",
    "\n",
    "# plot second function\n",
    "pyplot.subplot(132)\n",
    "plot(X2, weightsk2, (-3,3))\n",
    "\n",
    "# plot third function\n",
    "pyplot.subplot(133)\n",
    "plot(X3, weightsk3, (-5.5,4.5))"
   ]
  },
  {
   "cell_type": "code",
   "execution_count": null,
   "metadata": {},
   "outputs": [],
   "source": []
  }
 ],
 "metadata": {
  "colab": {
   "provenance": []
  },
  "kernelspec": {
   "display_name": "newenv",
   "language": "python",
   "name": "python3"
  },
  "language_info": {
   "codemirror_mode": {
    "name": "ipython",
    "version": 3
   },
   "file_extension": ".py",
   "mimetype": "text/x-python",
   "name": "python",
   "nbconvert_exporter": "python",
   "pygments_lexer": "ipython3",
   "version": "3.12.5"
  }
 },
 "nbformat": 4,
 "nbformat_minor": 1
}
